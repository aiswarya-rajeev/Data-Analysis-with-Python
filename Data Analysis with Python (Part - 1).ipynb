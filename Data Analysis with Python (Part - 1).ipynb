{
 "cells": [
  {
   "cell_type": "markdown",
   "metadata": {},
   "source": [
    "Data Analysis - A process of inspecting, cleansing, transforming, and \n",
    "modeling data with the goal of discovering useful information, informing\n",
    "conclusion and supporting decision-making"
   ]
  },
  {
   "cell_type": "markdown",
   "metadata": {},
   "source": [
    "Why python for Data Analysis?\n",
    "1. Very simple and intuitive to learn\n",
    "2. \"Correct\" language\n",
    "3. Powerful libraries (not just for Data Analysis)\n",
    "4. Free and open source\n",
    "5. Amazing community, docs and conferences"
   ]
  },
  {
   "cell_type": "markdown",
   "metadata": {},
   "source": [
    "When to Choose R?\n",
    "1. When R studio is needed\n",
    "2. When dealing with advanced statistical methods\n",
    "3. When extreme performance is needed"
   ]
  },
  {
   "cell_type": "markdown",
   "metadata": {},
   "source": [
    "Data Extraction:\n",
    "1. SQL\n",
    "2. Scrapping\n",
    "3. File Formats\n",
    "   - CSV\n",
    "   - JSON\n",
    "   - XML\n",
    "4. Consulting APIs\n",
    "5. Buying Data\n",
    "6. Distributed Databases"
   ]
  },
  {
   "cell_type": "markdown",
   "metadata": {},
   "source": [
    "Data Cleansing:\n",
    "1. Missing values & empty data\n",
    "2. Data imputation\n",
    "3. Incorrect types\n",
    "4. Incorrect or invalid values\n",
    "5. Outliers and non relevant data\n",
    "6. Statistical sanitization"
   ]
  },
  {
   "cell_type": "markdown",
   "metadata": {},
   "source": [
    "Data Wrangling:\n",
    "1. Hierarchical Data\n",
    "2. Handling categorical Data\n",
    "3. Reshaping and transforming structures\n",
    "4. Indexing data for quick access\n",
    "5. Merging, combining and joining data"
   ]
  },
  {
   "cell_type": "markdown",
   "metadata": {},
   "source": [
    "Analysis:\n",
    "1. Exploration\n",
    "2. Building statistical models\n",
    "3. Visualization and representations\n",
    "4. Correlation vs Causation analysis\n",
    "5. Hypothesis testing\n",
    "6. Statistical analysis\n",
    "7. Reporting"
   ]
  },
  {
   "cell_type": "markdown",
   "metadata": {},
   "source": [
    "Action:\n",
    "1. Building Machine\n",
    "2. Learning Models\n",
    "3. Feature Engineering\n",
    "4. Moving ML into production\n",
    "5. Building ETL pipelines\n",
    "6. Live dashboard and reporting\n",
    "7. Decision making and real-life tests"
   ]
  },
  {
   "cell_type": "code",
   "execution_count": null,
   "metadata": {},
   "outputs": [],
   "source": []
  }
 ],
 "metadata": {
  "kernelspec": {
   "display_name": "Python 3",
   "language": "python",
   "name": "python3"
  },
  "language_info": {
   "codemirror_mode": {
    "name": "ipython",
    "version": 3
   },
   "file_extension": ".py",
   "mimetype": "text/x-python",
   "name": "python",
   "nbconvert_exporter": "python",
   "pygments_lexer": "ipython3",
   "version": "3.7.4"
  }
 },
 "nbformat": 4,
 "nbformat_minor": 2
}
